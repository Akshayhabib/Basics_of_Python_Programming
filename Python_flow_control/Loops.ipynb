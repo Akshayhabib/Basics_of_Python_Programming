{
 "cells": [
  {
   "cell_type": "markdown",
   "id": "3cf5e96c",
   "metadata": {},
   "source": [
    "# While loop"
   ]
  },
  {
   "cell_type": "markdown",
   "id": "92786035",
   "metadata": {},
   "source": [
    "- Loops are used to execute a specific block of code repetitively\n",
    "\n",
    "- The 'While loop' in python is used to iterate over a block of code as long  as the test expression holds true\n",
    "\n",
    "- This loop is used when the number of times to iterate is not known to us beforehand"
   ]
  },
  {
   "cell_type": "code",
   "execution_count": 2,
   "id": "ab00bd18",
   "metadata": {},
   "outputs": [
    {
     "name": "stdout",
     "output_type": "stream",
     "text": [
      "Product is 2520\n"
     ]
    }
   ],
   "source": [
    "#find product of all the nunmbers present in a list\n",
    "\n",
    "lst=[1,3,4,5,6,7]\n",
    "\n",
    "product=1\n",
    "index=0\n",
    "\n",
    "while index < len(lst):\n",
    "    product *=lst[index]\n",
    "    index +=1\n",
    "    \n",
    "print(f\"Product is {product}\")"
   ]
  },
  {
   "cell_type": "markdown",
   "id": "fb70d19b",
   "metadata": {},
   "source": [
    "# While loop with else"
   ]
  },
  {
   "cell_type": "code",
   "execution_count": 5,
   "id": "6a5dd42f",
   "metadata": {},
   "outputs": [
    {
     "name": "stdout",
     "output_type": "stream",
     "text": [
      "1\n",
      "2\n",
      "3\n",
      "no item left in the list\n"
     ]
    }
   ],
   "source": [
    "num=[1,2,3]\n",
    "\n",
    "\n",
    "index=0\n",
    "\n",
    "while index < len(num):\n",
    "    print(num[index])\n",
    "    index +=1\n",
    "    \n",
    "else:\n",
    "    print(\"no item left in the list\")\n",
    "    "
   ]
  },
  {
   "cell_type": "markdown",
   "id": "eec1fd05",
   "metadata": {},
   "source": [
    "# python program to check the given nunmber is prime or not"
   ]
  },
  {
   "cell_type": "code",
   "execution_count": 10,
   "id": "ee86575e",
   "metadata": {},
   "outputs": [
    {
     "name": "stdout",
     "output_type": "stream",
     "text": [
      "Enter a number : 16\n",
      "16 is divisible by 2\n",
      "16 is divisible by 4\n",
      "16 is divisible by 8\n",
      "16 is Not a prime number\n"
     ]
    }
   ],
   "source": [
    "num=int(input(\"Enter a number : \"))\n",
    "\n",
    "isDivisible =False\n",
    "\n",
    "i=2\n",
    "\n",
    "while i <num:\n",
    "    if num % i==0:\n",
    "        isDivisible =True\n",
    "        print(f\"{num} is divisible by {i}\")\n",
    "    i +=1\n",
    "    \n",
    "if isDivisible:\n",
    "    print(f\"{num} is Not a prime number\")\n",
    "    \n",
    "else:\n",
    "    print(f\"{num} is  a prime number\")\n",
    "        \n",
    "        "
   ]
  },
  {
   "cell_type": "markdown",
   "id": "4cf3f69a",
   "metadata": {},
   "source": [
    "## The for Loop"
   ]
  },
  {
   "cell_type": "markdown",
   "id": "87350e0e",
   "metadata": {},
   "source": [
    "- The ' for loop ' in Python is used to iterate over the items of a sequence object like list , tuple , string and other iterable objects\n",
    "- The iteration continues until we reach the last item in the sequence object"
   ]
  },
  {
   "cell_type": "markdown",
   "id": "01dc994c",
   "metadata": {},
   "source": [
    "- Syntax:\n",
    "\n",
    "for element in sequence :\n",
    "\n",
    "    Body of for"
   ]
  },
  {
   "cell_type": "code",
   "execution_count": 1,
   "id": "4de7add1",
   "metadata": {},
   "outputs": [
    {
     "name": "stdout",
     "output_type": "stream",
     "text": [
      "Product is: 12000000\n"
     ]
    }
   ],
   "source": [
    "#Find product of all numbers present in a list\n",
    "\n",
    "lst = [10, 20, 30, 40, 50]\n",
    "\n",
    "product = 1\n",
    "#iterating over the list\n",
    "for ele in lst:\n",
    "    product *= ele\n",
    "\n",
    "print(\"Product is: {}\".format(product))"
   ]
  },
  {
   "cell_type": "markdown",
   "id": "10405933",
   "metadata": {},
   "source": [
    "##  range() function\n",
    "\n",
    "- We can generate a sequence of numbers using range() function. range(10) will generate numbers from 0 to 9 (10 numbers).\n",
    "\n",
    "- We can also define the start, stop and step size as range(start,stop,step size). step size defaults to 1 if not provided.\n",
    "\n",
    "- This function does not store all the values in memory, it would be inefficient. So it remembers the start, stop, step size and generates the next number on the go."
   ]
  },
  {
   "cell_type": "code",
   "execution_count": 2,
   "id": "a730e9ed",
   "metadata": {},
   "outputs": [
    {
     "name": "stdout",
     "output_type": "stream",
     "text": [
      "0\n",
      "1\n",
      "2\n",
      "3\n",
      "4\n",
      "5\n",
      "6\n",
      "7\n",
      "8\n",
      "9\n"
     ]
    }
   ],
   "source": [
    "#print range of 10\n",
    "for i in range(10):\n",
    "    print(i)"
   ]
  },
  {
   "cell_type": "code",
   "execution_count": 3,
   "id": "57dad6e1",
   "metadata": {},
   "outputs": [
    {
     "name": "stdout",
     "output_type": "stream",
     "text": [
      "0\n",
      "5\n",
      "10\n",
      "15\n"
     ]
    }
   ],
   "source": [
    "#print range of numbers from 1 to 20 with step size of 2\n",
    "for i in range(0, 20, 5):\n",
    "    print(i)"
   ]
  },
  {
   "cell_type": "code",
   "execution_count": 4,
   "id": "95c4ac17",
   "metadata": {},
   "outputs": [
    {
     "name": "stdout",
     "output_type": "stream",
     "text": [
      "akshay\n",
      "gaurav\n",
      "nikita\n",
      "namrata\n",
      "druvika\n"
     ]
    }
   ],
   "source": [
    "lst = [\"akshay\", \"gaurav\", \"nikita\", \"namrata\", \"druvika\"]\n",
    "\n",
    "#iterate over the list using index\n",
    "#for index in range(len(lst)):\n",
    "#    print(lst[index])\n",
    "for ele in lst:\n",
    "    print(ele)"
   ]
  },
  {
   "cell_type": "markdown",
   "id": "cf4dfe8a",
   "metadata": {},
   "source": [
    "##  for loop with else\n",
    "- A for loop can have an optional else block as well. The else part is executed if the items in the sequence used in for loop exhausts.\n",
    "\n",
    "- break statement can be used to stop a for loop. In such case, the else part is ignored.\n",
    "\n",
    "- Hence, a for loop's else part runs if no break occurs."
   ]
  },
  {
   "cell_type": "code",
   "execution_count": 5,
   "id": "df75a3c2",
   "metadata": {},
   "outputs": [
    {
     "name": "stdout",
     "output_type": "stream",
     "text": [
      "1\n",
      "2\n",
      "3\n",
      "no item left in the list\n"
     ]
    }
   ],
   "source": [
    "numbers = [1, 2, 3]\n",
    "\n",
    "#iterating over the list\n",
    "for item in numbers:\n",
    "    print(item)\n",
    "else:\n",
    "    print(\"no item left in the list\")"
   ]
  },
  {
   "cell_type": "code",
   "execution_count": 6,
   "id": "01df6b1d",
   "metadata": {},
   "outputs": [
    {
     "name": "stdout",
     "output_type": "stream",
     "text": [
      "1\n",
      "2\n"
     ]
    }
   ],
   "source": [
    "for item in numbers:\n",
    "    print(item)\n",
    "    if item % 2 == 0:\n",
    "        break\n",
    "else:\n",
    "    print(\"no item left in the list\")"
   ]
  },
  {
   "cell_type": "markdown",
   "id": "503a2c00",
   "metadata": {},
   "source": [
    "## Python Program to display all prime numbers within an interval"
   ]
  },
  {
   "cell_type": "code",
   "execution_count": 7,
   "id": "787b0e8d",
   "metadata": {},
   "outputs": [
    {
     "name": "stdout",
     "output_type": "stream",
     "text": [
      "Prime numbers between 20 and 50 are :\n",
      "23\n",
      "29\n",
      "31\n",
      "37\n",
      "41\n",
      "43\n",
      "47\n"
     ]
    }
   ],
   "source": [
    "\n",
    "index1 = 20\n",
    "index2 = 50\n",
    "\n",
    "print(\"Prime numbers between {0} and {1} are :\".format(index1, index2))\n",
    "\n",
    "for num in range(index1, index2+1):      #default step size is 1\n",
    "    if num > 1:\n",
    "        isDivisible = False;\n",
    "        for index in range(2, num):\n",
    "            if num % index == 0:\n",
    "                isDivisible = True;\n",
    "        if not isDivisible:        \n",
    "            print(num);\n",
    "    "
   ]
  },
  {
   "cell_type": "markdown",
   "id": "58a137a4",
   "metadata": {},
   "source": [
    "##  Nested for loop\n",
    "\n",
    "\n",
    "|1st level loop or outer loop|\n",
    "\n",
    "              |\n",
    "for [ first iterating variable ] in [ outer loop ] :\n",
    "\n",
    "            [ code line 1 ]\n",
    "            \n",
    "           [ code line 2 ]\n",
    "           \n",
    "           for [ second iterating variable ] in [ nested loop ] :\n",
    "                  [ code line 1 ]\n",
    "      Nested loop"
   ]
  },
  {
   "cell_type": "code",
   "execution_count": 19,
   "id": "07f26079",
   "metadata": {},
   "outputs": [
    {
     "name": "stdout",
     "output_type": "stream",
     "text": [
      " Enter number of levels : 5\n",
      "1 \n",
      "\n",
      "2 2 \n",
      "\n",
      "3 3 3 \n",
      "\n",
      "4 4 4 4 \n",
      "\n",
      "5 5 5 5 5 \n",
      "\n"
     ]
    }
   ],
   "source": [
    "#Print a number pattern using a for Loop and range function\n",
    "#Take Levels from user\n",
    "levels = int ( input ( \" Enter number of levels : \" ) )\n",
    "for level in range ( 1 , levels + 1 ) :\n",
    "       for num in range ( level ) :\n",
    "               print ( level , end = \" \" ) #print number\n",
    "    \n",
    "   # new line after each row to display pattern correctly\n",
    "       print(\"\\n\")"
   ]
  },
  {
   "cell_type": "markdown",
   "id": "df99d092",
   "metadata": {},
   "source": [
    "## Break statment\n",
    "\n"
   ]
  },
  {
   "cell_type": "markdown",
   "id": "b30f2884",
   "metadata": {},
   "source": [
    "- The ' break ' statement ends the loop\n",
    "  and resumes execution at the next statement\n",
    "- The break statement can be used in\n",
    "  both ' while ' loop and ' for ' loop\n",
    "- It is always used with conditional\n",
    "  statements"
   ]
  },
  {
   "cell_type": "code",
   "execution_count": 23,
   "id": "873a681a",
   "metadata": {},
   "outputs": [
    {
     "name": "stdout",
     "output_type": "stream",
     "text": [
      " \n",
      "K\n",
      "n\n",
      "o\n",
      "w\n",
      "l\n",
      "e\n",
      "d\n",
      "g\n",
      "e\n",
      "The for loop stopped executing\n"
     ]
    }
   ],
   "source": [
    "# declare a string variable\n",
    "text = \" Knowledgehut \"\n",
    "for letter in text : # letter take one letter at a time for every iteration over the string\n",
    "    if letter == 'h' : # condition to stop the execution of the loop\n",
    "        break\n",
    "    print (letter)\n",
    "print(\"The for loop stopped executing\")"
   ]
  },
  {
   "cell_type": "code",
   "execution_count": 24,
   "id": "7d1419af",
   "metadata": {},
   "outputs": [
    {
     "name": "stdout",
     "output_type": "stream",
     "text": [
      "1\n",
      "2\n",
      "3\n",
      "Outside of for loop\n"
     ]
    }
   ],
   "source": [
    "numbers = [1, 2, 3, 4]\n",
    "for num in numbers:          #iterating over list\n",
    "    if num == 4:\n",
    "        break\n",
    "    print(num)\n",
    "else:\n",
    "    print(\"in the else-block\")\n",
    "print(\"Outside of for loop\")"
   ]
  },
  {
   "cell_type": "markdown",
   "id": "685e3aa1",
   "metadata": {},
   "source": [
    "## Python Program to check given number is Prime number or not (using break)"
   ]
  },
  {
   "cell_type": "code",
   "execution_count": 25,
   "id": "75b4e802",
   "metadata": {},
   "outputs": [
    {
     "name": "stdout",
     "output_type": "stream",
     "text": [
      "Enter a number: 17\n",
      "17 is a Prime number\n"
     ]
    }
   ],
   "source": [
    "\n",
    "num = int(input(\"Enter a number: \"))        #convert string to int\n",
    "\n",
    "\n",
    "isDivisible = False;\n",
    "\n",
    "i=2;\n",
    "while i < num:\n",
    "    if num % i == 0:\n",
    "        isDivisible = True;\n",
    "        print (\"{} is divisible by {}\".format(num,i) )\n",
    "        break; # this line is the only addition.\n",
    "    i += 1;\n",
    "    \n",
    "if isDivisible:\n",
    "    print(\"{} is NOT a Prime number\".format(num))\n",
    "else:\n",
    "    print(\"{} is a Prime number\".format(num))"
   ]
  },
  {
   "cell_type": "markdown",
   "id": "86c12842",
   "metadata": {},
   "source": [
    "# Python Continue Statement"
   ]
  },
  {
   "cell_type": "markdown",
   "id": "284533f9",
   "metadata": {},
   "source": [
    "- The ' continue ' statement in Python\n",
    "  ignores all the remaining\n",
    "  statements in the iteration of the\n",
    "  current loop and moves the control\n",
    "  back to the beginning of the loop\n",
    "- The continue statement can be used\n",
    "  in both ' while ' loop and the ' for 'loop\n",
    "- Like break , continue is also always\n",
    "  used with conditional statements"
   ]
  },
  {
   "cell_type": "code",
   "execution_count": 26,
   "id": "45ea6a3b",
   "metadata": {},
   "outputs": [
    {
     "name": "stdout",
     "output_type": "stream",
     "text": [
      "1\n",
      "3\n",
      "5\n",
      "else-block\n"
     ]
    }
   ],
   "source": [
    "#print odd numbers present in a list\n",
    "numbers = [1, 2, 3, 4, 5]\n",
    "\n",
    "for num in numbers:\n",
    "    if num % 2 == 0:\n",
    "        continue\n",
    "    print(num)\n",
    "else:\n",
    "    print(\"else-block\")"
   ]
  },
  {
   "cell_type": "code",
   "execution_count": 34,
   "id": "d0c75030",
   "metadata": {},
   "outputs": [
    {
     "name": "stdout",
     "output_type": "stream",
     "text": [
      "K\n",
      "n\n",
      "o\n",
      "w\n",
      "l\n",
      "e\n",
      "d\n",
      "g\n",
      "e\n",
      "The loop skipped a space here\n",
      "h\n",
      "u\n",
      "t\n"
     ]
    }
   ],
   "source": [
    "# declare a string variable\n",
    "text = \"Knowledge hut\"\n",
    "for letter in text :\n",
    "    if letter ==' ':\n",
    "        print (\"The loop skipped a space here\")\n",
    "        continue\n",
    "    print ( letter )\n",
    "                 # Letter take one letter at a time for every iteration over the string\n",
    "                 # condition to skip printing of letter\n",
    "                "
   ]
  },
  {
   "cell_type": "code",
   "execution_count": null,
   "id": "d6956a4e",
   "metadata": {},
   "outputs": [],
   "source": []
  }
 ],
 "metadata": {
  "kernelspec": {
   "display_name": "Python 3 (ipykernel)",
   "language": "python",
   "name": "python3"
  },
  "language_info": {
   "codemirror_mode": {
    "name": "ipython",
    "version": 3
   },
   "file_extension": ".py",
   "mimetype": "text/x-python",
   "name": "python",
   "nbconvert_exporter": "python",
   "pygments_lexer": "ipython3",
   "version": "3.9.12"
  }
 },
 "nbformat": 4,
 "nbformat_minor": 5
}
