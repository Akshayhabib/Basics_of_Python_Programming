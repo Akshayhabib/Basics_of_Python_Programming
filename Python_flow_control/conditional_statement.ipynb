{
 "cells": [
  {
   "cell_type": "markdown",
   "id": "7a234388",
   "metadata": {},
   "source": [
    "##  The if statement"
   ]
  },
  {
   "cell_type": "markdown",
   "id": "31be493e",
   "metadata": {},
   "source": [
    "- The if statment is used in python for decision making\n",
    "- It is written by using the if keyword\n",
    "- The if keyword is followed by condition later followed by indented block of code\n",
    "  which will be executed only if the condition is true\n",
    "    "
   ]
  },
  {
   "cell_type": "code",
   "execution_count": 3,
   "id": "6c38856f",
   "metadata": {},
   "outputs": [
    {
     "name": "stdout",
     "output_type": "stream",
     "text": [
      "This will print always\n"
     ]
    }
   ],
   "source": [
    "num=10\n",
    "if num >10:\n",
    "    print(\"Number is positive\")\n",
    "print(\"This will print always\")"
   ]
  },
  {
   "cell_type": "markdown",
   "id": "7708887b",
   "metadata": {},
   "source": [
    "# The  if-else statement"
   ]
  },
  {
   "cell_type": "markdown",
   "id": "19c3faaa",
   "metadata": {},
   "source": [
    "- The \"if..else\"statement evaluates a test expression and will execute:\n",
    "\n",
    "-       + the indented if block of code if the condition is              True\n",
    "\n",
    "-       + the indented else block of code if the condition in the if statemnent  is False\n"
   ]
  },
  {
   "cell_type": "markdown",
   "id": "e6677d57",
   "metadata": {},
   "source": [
    "## Syntax:\n",
    "\n",
    "\n",
    "                     if (condtion):  \n",
    "               Body of if \n",
    "          else:\n",
    "              Body of else\n",
    "\n"
   ]
  },
  {
   "cell_type": "code",
   "execution_count": 4,
   "id": "9f642c36",
   "metadata": {},
   "outputs": [
    {
     "name": "stdout",
     "output_type": "stream",
     "text": [
      "This will print always\n"
     ]
    }
   ],
   "source": [
    "num=10\n",
    "if num >10:\n",
    "    print(\"Number is positive\")\n",
    "else:\n",
    "    print(\"This will print always\")"
   ]
  },
  {
   "cell_type": "markdown",
   "id": "d818a5dd",
   "metadata": {},
   "source": [
    "##  The if elif else statement"
   ]
  },
  {
   "cell_type": "markdown",
   "id": "497657e8",
   "metadata": {},
   "source": [
    "- Elif statement is used to control multiple conditions only if the given if condition is False"
   ]
  },
  {
   "cell_type": "markdown",
   "id": "65359a0d",
   "metadata": {},
   "source": [
    "- Syntax :\n",
    "\n",
    "                   if ( condition1 ) :\n",
    "                   \n",
    "                       Body of if\n",
    "                       \n",
    "                  elif ( condition2 ) :\n",
    "                  \n",
    "                       Body of elif\n",
    "                       \n",
    "                  elif ( condition3 ) :\n",
    "                  \n",
    "                       Body of elif\n",
    "                  .\n",
    "                  .\n",
    "                  .\n",
    "                  .\n",
    "                   else :\n",
    "                   \n",
    "                                      Body of else"
   ]
  },
  {
   "cell_type": "code",
   "execution_count": 10,
   "id": "fb949da5",
   "metadata": {},
   "outputs": [
    {
     "name": "stdout",
     "output_type": "stream",
     "text": [
      "Zero\n"
     ]
    }
   ],
   "source": [
    "num=0\n",
    "if num >10:\n",
    "    print(\"Number is positive\")\n",
    "elif num==0:\n",
    "    print(\"Zero\")\n",
    "else:\n",
    "    print(\"This will print always\")"
   ]
  },
  {
   "cell_type": "markdown",
   "id": "8c238f28",
   "metadata": {},
   "source": [
    "# Nested if stament"
   ]
  },
  {
   "cell_type": "markdown",
   "id": "ba4cba6f",
   "metadata": {},
   "source": [
    "- Nesting means using if statement with anohter if statement\n",
    "\n",
    "- If the firt \"if\" condition is satisfied then the program executes the command within that 'if'"
   ]
  },
  {
   "cell_type": "code",
   "execution_count": 6,
   "id": "d183d32a",
   "metadata": {},
   "outputs": [
    {
     "name": "stdout",
     "output_type": "stream",
     "text": [
      "Zero\n"
     ]
    }
   ],
   "source": [
    "num=0\n",
    "if num >=0:\n",
    "    if num==0:\n",
    "        print(\"Zero\")\n",
    "    else:\n",
    "        print(\"Number is positive\")\n",
    "else:\n",
    "    print(\"Number is negative\")"
   ]
  },
  {
   "cell_type": "markdown",
   "id": "d460d44f",
   "metadata": {},
   "source": [
    "## Python program to find the largest element among the three numbers"
   ]
  },
  {
   "cell_type": "code",
   "execution_count": 7,
   "id": "39bbc801",
   "metadata": {},
   "outputs": [
    {
     "name": "stdout",
     "output_type": "stream",
     "text": [
      "num2= 50 is the largest element among the three numbers\n"
     ]
    }
   ],
   "source": [
    "num1=10\n",
    "num2=50\n",
    "num3=15\n",
    "\n",
    "if num1>num2 and num1>num3:\n",
    "    print(f\"num1= {num1} is the largest element among the three numbers\")\n",
    "elif  num2>num1 and num2>num3:\n",
    "    print(f\"num2= {num2} is the largest element among the three numbers\")\n",
    "else:\n",
    "    print(f\"num3= {num3} is the largest element among the three numbers\")"
   ]
  },
  {
   "cell_type": "markdown",
   "id": "26176544",
   "metadata": {},
   "source": [
    "## Program to check password for a user_id\n"
   ]
  },
  {
   "cell_type": "code",
   "execution_count": 10,
   "id": "52716aa4",
   "metadata": {},
   "outputs": [
    {
     "name": "stdout",
     "output_type": "stream",
     "text": [
      "Enter user_id :pga_10\n",
      "Enter password :abc_123\n",
      "Password Accepted .Logged In\n"
     ]
    }
   ],
   "source": [
    "user=input(\"Enter user_id :\")\n",
    "password=input(\"Enter password :\")\n",
    "\n",
    "if (user_id==\"pga_10\"):\n",
    "    if (password==\"abc_123\"):\n",
    "        print(\"Password Accepted .Logged In\")\n",
    "    else:\n",
    "        print(\"Wrong Password. Please enter the correct password\")\n",
    "    "
   ]
  },
  {
   "cell_type": "code",
   "execution_count": null,
   "id": "0f5c6bb7",
   "metadata": {},
   "outputs": [],
   "source": []
  }
 ],
 "metadata": {
  "kernelspec": {
   "display_name": "Python 3 (ipykernel)",
   "language": "python",
   "name": "python3"
  },
  "language_info": {
   "codemirror_mode": {
    "name": "ipython",
    "version": 3
   },
   "file_extension": ".py",
   "mimetype": "text/x-python",
   "name": "python",
   "nbconvert_exporter": "python",
   "pygments_lexer": "ipython3",
   "version": "3.9.12"
  }
 },
 "nbformat": 4,
 "nbformat_minor": 5
}
