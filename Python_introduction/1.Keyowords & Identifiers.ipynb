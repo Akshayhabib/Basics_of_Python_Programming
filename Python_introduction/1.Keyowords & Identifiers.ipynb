{
 "cells": [
  {
   "cell_type": "markdown",
   "metadata": {
    "id": "XP2V7Ds3x9lJ"
   },
   "source": [
    "# Python Keywords"
   ]
  },
  {
   "cell_type": "markdown",
   "metadata": {
    "id": "WWafYKulx9lO"
   },
   "source": [
    "Keywords are the reserved words in python\n",
    "\n",
    "We can't use a keyword as variable name, function name or any other identifier\n",
    "\n",
    "Keywords are case sentive"
   ]
  },
  {
   "cell_type": "code",
   "execution_count": 2,
   "metadata": {
    "colab": {
     "base_uri": "https://localhost:8080/"
    },
    "id": "bmp-yw_cx9lP",
    "outputId": "a251c9fa-48d6-4760-a0b1-26f84779df1d"
   },
   "outputs": [
    {
     "data": {
      "text/plain": [
       "('Total number of keywords ',\n",
       " ['False',\n",
       "  'None',\n",
       "  'True',\n",
       "  '__peg_parser__',\n",
       "  'and',\n",
       "  'as',\n",
       "  'assert',\n",
       "  'async',\n",
       "  'await',\n",
       "  'break',\n",
       "  'class',\n",
       "  'continue',\n",
       "  'def',\n",
       "  'del',\n",
       "  'elif',\n",
       "  'else',\n",
       "  'except',\n",
       "  'finally',\n",
       "  'for',\n",
       "  'from',\n",
       "  'global',\n",
       "  'if',\n",
       "  'import',\n",
       "  'in',\n",
       "  'is',\n",
       "  'lambda',\n",
       "  'nonlocal',\n",
       "  'not',\n",
       "  'or',\n",
       "  'pass',\n",
       "  'raise',\n",
       "  'return',\n",
       "  'try',\n",
       "  'while',\n",
       "  'with',\n",
       "  'yield'])"
      ]
     },
     "execution_count": 2,
     "metadata": {},
     "output_type": "execute_result"
    }
   ],
   "source": [
    "#Get all keywords in python\n",
    "\n",
    "import keyword\n",
    "\n",
    "#print(keyword.kwlist)\n",
    "\"Total number of keywords \", keyword.kwlist"
   ]
  },
  {
   "cell_type": "markdown",
   "metadata": {
    "collapsed": true,
    "id": "4wpq4Uomx9lW"
   },
   "source": [
    "# Identifiers"
   ]
  },
  {
   "cell_type": "markdown",
   "metadata": {
    "id": "VtGncKb3x9lY"
   },
   "source": [
    "Identifier is the name given to entities like class, functions, variables etc. in Python. It helps differentiating one entity from another."
   ]
  },
  {
   "cell_type": "markdown",
   "metadata": {
    "id": "YHO424Knx9lZ"
   },
   "source": [
    "Rules for Writing Identifiers:\n",
    "\n",
    "1. Identifiers can be a combination of letters in lowercase (a to z) or uppercase (A to Z) or digits (0 to 9) or an underscore (_).\n",
    "\n",
    "2. An identifier cannot start with a digit. 1variable is invalid, but variable1 is perfectly fine.\n",
    "\n",
    "3. Keywords cannot be used as identifiers."
   ]
  },
  {
   "cell_type": "code",
   "execution_count": 3,
   "metadata": {
    "colab": {
     "base_uri": "https://localhost:8080/",
     "height": 131
    },
    "id": "tZQPhTryx9la",
    "outputId": "927abb42-bbfe-41f6-d3c7-a139a505b6d0"
   },
   "outputs": [
    {
     "ename": "SyntaxError",
     "evalue": "invalid syntax (1908464387.py, line 1)",
     "output_type": "error",
     "traceback": [
      "\u001b[1;36m  Input \u001b[1;32mIn [3]\u001b[1;36m\u001b[0m\n\u001b[1;33m    global = 1\u001b[0m\n\u001b[1;37m           ^\u001b[0m\n\u001b[1;31mSyntaxError\u001b[0m\u001b[1;31m:\u001b[0m invalid syntax\n"
     ]
    }
   ],
   "source": [
    "global = 1"
   ]
  },
  {
   "cell_type": "markdown",
   "metadata": {
    "id": "v-YqWZVHx9le"
   },
   "source": [
    " We cannot use special symbols like !, @, #, $, % etc. in our identifier."
   ]
  },
  {
   "cell_type": "code",
   "execution_count": 4,
   "metadata": {
    "colab": {
     "base_uri": "https://localhost:8080/"
    },
    "id": "FTqhcbK5x9lg",
    "outputId": "28101d46-70e6-426f-a563-2eb9605b8c77"
   },
   "outputs": [],
   "source": [
    "abc12 = 10             #can't use special symbols as an identifier"
   ]
  },
  {
   "cell_type": "code",
   "execution_count": null,
   "metadata": {},
   "outputs": [],
   "source": []
  }
 ],
 "metadata": {
  "colab": {
   "name": "1.2.ipynb",
   "provenance": []
  },
  "kernelspec": {
   "display_name": "Python 3 (ipykernel)",
   "language": "python",
   "name": "python3"
  },
  "language_info": {
   "codemirror_mode": {
    "name": "ipython",
    "version": 3
   },
   "file_extension": ".py",
   "mimetype": "text/x-python",
   "name": "python",
   "nbconvert_exporter": "python",
   "pygments_lexer": "ipython3",
   "version": "3.9.12"
  }
 },
 "nbformat": 4,
 "nbformat_minor": 1
}
